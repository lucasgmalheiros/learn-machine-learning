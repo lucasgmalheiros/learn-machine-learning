{
 "cells": [
  {
   "cell_type": "markdown",
   "id": "5a0f598f",
   "metadata": {},
   "source": [
    "### Using many kinds of machine learning classifiers to identify handwritten digits\n",
    "\n",
    "#### Implemented models from scikit-learn (KMeans, KNeighbors, SupportVector, RandomForest) and TensorFlow (neural networks) with the mnist dataset"
   ]
  },
  {
   "cell_type": "code",
   "execution_count": 49,
   "id": "7e483da7",
   "metadata": {},
   "outputs": [],
   "source": [
    "%matplotlib inline\n",
    "import cv2 as cv\n",
    "import numpy as np\n",
    "import matplotlib.pyplot as plt\n",
    "import tensorflow as tf\n",
    "import pandas as pd\n",
    "import matplotlib.pyplot as plt\n",
    "import cv2 as cv\n",
    "import numpy as np\n",
    "import random\n",
    "from sklearn.datasets import fetch_openml\n",
    "from sklearn.cluster import KMeans\n",
    "from sklearn.neighbors import KNeighborsClassifier\n",
    "from sklearn.svm import SVC\n",
    "from sklearn.ensemble import RandomForestClassifier\n",
    "from sklearn.preprocessing import scale\n",
    "from sklearn.model_selection import train_test_split"
   ]
  },
  {
   "cell_type": "code",
   "execution_count": 3,
   "id": "afddc6f5",
   "metadata": {},
   "outputs": [],
   "source": [
    "def display_digit(image):\n",
    "    plt.figure(figsize=(3, 3))\n",
    "    plt.imshow(image[0], cmap='gist_yarg')\n",
    "    plt.show()"
   ]
  },
  {
   "cell_type": "code",
   "execution_count": 4,
   "id": "ea9bebef",
   "metadata": {},
   "outputs": [],
   "source": [
    "def sklearn_img(image):\n",
    "    n, nx, ny = image.shape\n",
    "    image = image.reshape(n, nx * ny)\n",
    "    return image"
   ]
  },
  {
   "cell_type": "code",
   "execution_count": 52,
   "id": "e1fd0f93",
   "metadata": {
    "scrolled": false
   },
   "outputs": [
    {
     "data": {
      "image/png": "[encoded data removed]",
      "text/plain": [
       "<Figure size 300x300 with 1 Axes>"
      ]
     },
     "metadata": {},
     "output_type": "display_data"
    }
   ],
   "source": [
    "# Picks a random image to be identified\n",
    "img = cv.imread(f\"../digits/{random.randint(1, 20)}.png\")[:, :, 0]\n",
    "img = np.invert(np.array([img]))\n",
    "display_digit(img)"
   ]
  },
  {
   "cell_type": "markdown",
   "id": "23bbe449",
   "metadata": {},
   "source": [
    "# Scikit-learn"
   ]
  },
  {
   "cell_type": "code",
   "execution_count": 6,
   "id": "44ee0041",
   "metadata": {},
   "outputs": [],
   "source": [
    "# mnist data\n",
    "mnist = fetch_openml(\"mnist_784\", parser=\"auto\")\n",
    "data = scale(mnist.data)\n",
    "target = mnist.target"
   ]
  },
  {
   "cell_type": "code",
   "execution_count": 7,
   "id": "9463bae2",
   "metadata": {},
   "outputs": [],
   "source": [
    "# Split data into train and test\n",
    "x, y = data, target\n",
    "x_train, x_test, y_train, y_test = train_test_split(x, y, test_size=0.2)"
   ]
  },
  {
   "cell_type": "markdown",
   "id": "f3f6ca73",
   "metadata": {},
   "source": [
    "## KMeans"
   ]
  },
  {
   "cell_type": "code",
   "execution_count": 8,
   "id": "b065c3a9",
   "metadata": {
    "scrolled": false
   },
   "outputs": [],
   "source": [
    "# Model training\n",
    "kmmodel = KMeans(n_clusters=10, init=\"random\", n_init=10)\n",
    "kmmodel.fit(data);\n",
    "# This unsupervised method cannot be evaluated with train/test split"
   ]
  },
  {
   "cell_type": "code",
   "execution_count": 53,
   "id": "31a50bfb",
   "metadata": {
    "scrolled": false
   },
   "outputs": [
    {
     "name": "stdout",
     "output_type": "stream",
     "text": [
      "To me this number looks like 4\n"
     ]
    }
   ],
   "source": [
    "# Predicting which number is written above\n",
    "prediction = kmmodel.predict(sklearn_img(img))\n",
    "print(f\"To me this number looks like {prediction[0]}\")"
   ]
  },
  {
   "cell_type": "markdown",
   "id": "68747454",
   "metadata": {},
   "source": [
    "## KNeighbors"
   ]
  },
  {
   "cell_type": "code",
   "execution_count": 10,
   "id": "88671775",
   "metadata": {
    "scrolled": true
   },
   "outputs": [
    {
     "name": "stdout",
     "output_type": "stream",
     "text": [
      "Score using tests from dataset: 94.61%\n"
     ]
    }
   ],
   "source": [
    "knmodel = KNeighborsClassifier(n_neighbors=3)\n",
    "knmodel.fit(x_train, y_train)\n",
    "print(f\"Score using tests from dataset: {knmodel.score(x_test, y_test) * 100 :.2f}%\")"
   ]
  },
  {
   "cell_type": "code",
   "execution_count": 54,
   "id": "e37f232f",
   "metadata": {
    "scrolled": true
   },
   "outputs": [
    {
     "name": "stdout",
     "output_type": "stream",
     "text": [
      "To me this number looks like 3\n"
     ]
    }
   ],
   "source": [
    "prediction = knmodel.predict(sklearn_img(img))\n",
    "print(f\"To me this number looks like {prediction[0]}\")"
   ]
  },
  {
   "cell_type": "markdown",
   "id": "b5b153fc",
   "metadata": {},
   "source": [
    "## SVC (Support Vector Classifier)"
   ]
  },
  {
   "cell_type": "code",
   "execution_count": 12,
   "id": "324e9187",
   "metadata": {},
   "outputs": [
    {
     "name": "stdout",
     "output_type": "stream",
     "text": [
      "Score using tests from dataset: 92.04%\n"
     ]
    }
   ],
   "source": [
    "svmodel = SVC(kernel='linear', C=3, gamma=\"auto\")\n",
    "svmodel.fit(x_train, y_train)\n",
    "print(f\"Score using tests from dataset: {svmodel.score(x_test, y_test) * 100 :.2f}%\")"
   ]
  },
  {
   "cell_type": "code",
   "execution_count": 55,
   "id": "d58cadce",
   "metadata": {
    "scrolled": false
   },
   "outputs": [
    {
     "name": "stdout",
     "output_type": "stream",
     "text": [
      "To me this number looks like 3\n"
     ]
    }
   ],
   "source": [
    "prediction = svmodel.predict(sklearn_img(img))\n",
    "print(f\"To me this number looks like {prediction[0]}\")"
   ]
  },
  {
   "cell_type": "markdown",
   "id": "0f0827d7",
   "metadata": {},
   "source": [
    "## Random Forest"
   ]
  },
  {
   "cell_type": "code",
   "execution_count": 50,
   "id": "ea2748e3",
   "metadata": {},
   "outputs": [
    {
     "name": "stdout",
     "output_type": "stream",
     "text": [
      "Score using tests from dataset: 96.73%\n"
     ]
    }
   ],
   "source": [
    "rfmodel = RandomForestClassifier(n_estimators=100, max_depth=None)\n",
    "rfmodel.fit(x_train, y_train)\n",
    "print(f\"Score using tests from dataset: {rfmodel.score(x_test, y_test) * 100 :.2f}%\")"
   ]
  },
  {
   "cell_type": "code",
   "execution_count": 56,
   "id": "5527dc92",
   "metadata": {},
   "outputs": [
    {
     "name": "stdout",
     "output_type": "stream",
     "text": [
      "To me this number looks like 8\n"
     ]
    }
   ],
   "source": [
    "prediction = rfmodel.predict(sklearn_img(img))\n",
    "print(f\"To me this number looks like {prediction[0]}\")"
   ]
  },
  {
   "cell_type": "markdown",
   "id": "a4e28cb1",
   "metadata": {},
   "source": [
    "# Tensorflow"
   ]
  },
  {
   "cell_type": "markdown",
   "id": "8a066e4f",
   "metadata": {},
   "source": [
    "## Neural network"
   ]
  },
  {
   "cell_type": "code",
   "execution_count": 14,
   "id": "2a5dbe6d",
   "metadata": {},
   "outputs": [],
   "source": [
    "# Load trained model\n",
    "model = tf.keras.models.load_model(\"../digits-neural-model\")"
   ]
  },
  {
   "cell_type": "markdown",
   "id": "b7d9b04b",
   "metadata": {},
   "source": [
    "***This trained model code is available [here](../neural-networks.ipynb)***"
   ]
  },
  {
   "cell_type": "code",
   "execution_count": 57,
   "id": "dfb9916c",
   "metadata": {
    "scrolled": true
   },
   "outputs": [
    {
     "name": "stdout",
     "output_type": "stream",
     "text": [
      "1/1 [==============================] - 0s 22ms/step\n",
      "To me this number looks like 7\n"
     ]
    }
   ],
   "source": [
    "# Predicting which number is written above\n",
    "prediction = model.predict(img)\n",
    "number = np.argmax(prediction)\n",
    "print(f\"To me this number looks like {number}\")"
   ]
  }
 ],
 "metadata": {
  "kernelspec": {
   "display_name": "Python 3 (ipykernel)",
   "language": "python",
   "name": "python3"
  },
  "language_info": {
   "codemirror_mode": {
    "name": "ipython",
    "version": 3
   },
   "file_extension": ".py",
   "mimetype": "text/x-python",
   "name": "python",
   "nbconvert_exporter": "python",
   "pygments_lexer": "ipython3",
   "version": "3.10.10"
  }
 },
 "nbformat": 4,
 "nbformat_minor": 5
}
